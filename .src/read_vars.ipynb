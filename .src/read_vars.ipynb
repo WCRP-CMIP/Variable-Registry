{
 "cells": [
  {
   "cell_type": "code",
   "execution_count": 1,
   "metadata": {},
   "outputs": [],
   "source": [
    "import json\n",
    "vars = json.load(open('v1.2.2_vars.json'))['Compound Name']"
   ]
  },
  {
   "cell_type": "code",
   "execution_count": 2,
   "metadata": {},
   "outputs": [
    {
     "data": {
      "text/plain": [
       "(dict_keys(['3hr.clt', '3hr.evspsblsoi', '3hr.evspsblveg', '3hr.ficeberg', '3hr.flandice', '3hr.friver', '3hr.hfds', '3hr.hfdsl', '3hr.hfls', '3hr.hfrunoffds', '3hr.hfss', '3hr.huss', '3hr.mpw', '3hr.mrro', '3hr.mrros', '3hr.mrso100', '3hr.mrsos', '3hr.pr', '3hr.prsn', '3hr.ps', '3hr.rlds', '3hr.rlus', '3hr.rsds', '3hr.rsntds', '3hr.rsus', '3hr.sfdsi', '3hr.srfrad', '3hr.swh', '3hr.tas', '3hr.tauuo', '3hr.tauvo', '3hr.tos', '3hr.tran', '3hr.tslsi', '3hr.ua100m', '3hr.va100m', '3hr.wdir', '3hr.wfo', '3hr.wpdir', '3hr.wpp', '3hrPt.bldep', '3hrPt.mpw', '3hrPt.swh', '3hrPt.uas', '3hrPt.vas', '3hrPt.wdir', '3hrPt.wpdir', '3hrPt.wpp', '6hr.mpw', '6hr.mpwswell', '6hr.mpwwindsea', '6hr.sduo', '6hr.sdvo', '6hr.swh', '6hr.swhmax', '6hr.swhswell', '6hr.swhwindsea', '6hr.wdir', '6hr.wdirswell', '6hr.wdirwindsea', '6hr.wpdir', '6hr.wpdirswell', '6hr.wpdirwindsea', '6hr.wpp', '6hr.wppswell', '6hr.wppwindsea', '6hrLev.bs550aer', '6hrLev.ec550aer', '6hrLev.hus', '6hrLev.ps', '6hrLev.ta', '6hrLev.ua', '6hrLev.va', '6hrLev.zg', '6hrPlev.hurs', '6hrPlev.huss', '6hrPlev.pr', '6hrPlev.prhmax', '6hrPlev.prra', '6hrPlev.prsn', '6hrPlev.ps', '6hrPlev.psl', '6hrPlev.rlds', '6hrPlev.rsds', '6hrPlev.rv850', '6hrPlev.sfcWind', '6hrPlev.tas', '6hrPlev.ts', '6hrPlev.uas', '6hrPlev.vas', '6hrPlev.zg1000', '6hrPlevPt.hur100', '6hrPlevPt.hur500', '6hrPlevPt.hur850', '6hrPlevPt.hus7h', '6hrPlevPt.intuaw', '6hrPlevPt.intvaw', '6hrPlevPt.pr', '6hrPlevPt.prw', '6hrPlevPt.psl', '6hrPlevPt.rv850', '6hrPlevPt.ta', '6hrPlevPt.ta7h', '6hrPlevPt.taUTLS', '6hrPlevPt.ts', '6hrPlevPt.ua', '6hrPlevPt.ua200', '6hrPlevPt.ua7h', '6hrPlevPt.uas', '6hrPlevPt.uaUTLS', '6hrPlevPt.va', '6hrPlevPt.va200', '6hrPlevPt.va7h', '6hrPlevPt.vas', '6hrPlevPt.vaUTLS', '6hrPlevPt.zg', '6hrPlevPt.zg500', '6hrPlevPt.zg700', '6hrPlevPt.zg7h', '6hrPlevPt.zg925', 'AERday.co', 'AERday.cod', 'AERday.drynh3', 'AERday.drynh4', 'AERday.drynoy', 'AERday.maxpblz', 'AERday.minpblz', 'AERday.mmraerh2o', 'AERday.mmrbc', 'AERday.mmrdust', 'AERday.mmrnh4', 'AERday.mmrno3', 'AERday.mmroa', 'AERday.mmrso4', 'AERday.mmrsoa', 'AERday.mmrss', 'AERday.od550aer', 'AERday.sfo3max', 'AERday.sfpm1', 'AERday.sfpm10', 'AERday.sfpm25', 'AERday.so2', 'AERday.toz', 'AERday.ua10', 'AERday.wetnh3', 'AERday.wetnh4', 'AERday.wetnoy', 'AERday.zg10', 'AERday.zg1000', 'AERday.zg500', 'AERfx.ch4ref', 'AERfx.o3ref', 'AERfx.o3refClim', 'AERhr.ps', 'AERhr.sfno2', 'AERhr.sfo3', 'AERhr.sfpm1', 'AERhr.sfpm10', 'AERhr.sfpm25', 'AERhr.tas', 'AERmon.abs550aer', 'AERmon.abs550bc', 'AERmon.abs550dust', 'AERmon.abs550no3', 'AERmon.abs550oa', 'AERmon.abs550so4', 'AERmon.abs550ss', 'AERmon.airmass', 'AERmon.aoanh', 'AERmon.bldep', 'AERmon.c2h4', 'AERmon.c2h5oh', 'AERmon.c2h6', 'AERmon.c3h6', 'AERmon.c3h8', 'AERmon.c4h10', 'AERmon.ccn', 'AERmon.ccn02', 'AERmon.ccn02South30', 'AERmon.ccn1', 'AERmon.ccn1South30', 'AERmon.ccnSouth30', 'AERmon.cdnc', 'AERmon.cdncSouth30', 'AERmon.cfc114', 'AERmon.ch3coch3', 'AERmon.ch3oh', 'AERmon.ch4', 'AERmon.ch4losssoil', 'AERmon.cheaqpso4', 'AERmon.chegph2oo1d', 'AERmon.chegpso4', 'AERmon.chepasoa', 'AERmon.chepnh4', 'AERmon.chepno3', 'AERmon.chepsoa', 'AERmon.cltc', 'AERmon.co', 'AERmon.co2', 'AERmon.cod', 'AERmon.codSouth30', 'AERmon.conccn', 'AERmon.dms', 'AERmon.dmsSouth30', 'AERmon.do3chm', 'AERmon.drybc', 'AERmon.drydust', 'AERmon.dryh2', 'AERmon.dryhno3', 'AERmon.drynh3', 'AERmon.drynh4', 'AERmon.dryno3', 'AERmon.drynoy', 'AERmon.dryo3', 'AERmon.dryoa', 'AERmon.dryso2', 'AERmon.dryso4', 'AERmon.dryss', 'AERmon.e90inst', 'AERmon.emiach4', 'AERmon.emiaco', 'AERmon.emianox', 'AERmon.emiaoa', 'AERmon.emiavnox', 'AERmon.emibbbc', 'AERmon.emibbch4', 'AERmon.emibbco', 'AERmon.emibbdms', 'AERmon.emibbnh3', 'AERmon.emibbnox', 'AERmon.emibboa', 'AERmon.emibbso2', 'AERmon.emibbvoc', 'AERmon.emibc', 'AERmon.emibvoc', 'AERmon.emic2h4', 'AERmon.emic2h5oh', 'AERmon.emic2h6', 'AERmon.emic3h6', 'AERmon.emic3h8', 'AERmon.emic4h10', 'AERmon.emich3oh', 'AERmon.emich4', 'AERmon.emico', 'AERmon.emidms', 'AERmon.emidmsSouth30', 'AERmon.emidust', 'AERmon.emih2', 'AERmon.emiisop', 'AERmon.emilkch4', 'AERmon.emilnox', 'AERmon.eminh3', 'AERmon.eminox', 'AERmon.emioa', 'AERmon.emiso2', 'AERmon.emiso4', 'AERmon.emiss', 'AERmon.emissSouth30', 'AERmon.emivoc', 'AERmon.h2', 'AERmon.h2loss', 'AERmon.h2o', 'AERmon.h2prod', 'AERmon.hcfc22', 'AERmon.hcho', 'AERmon.hcl', 'AERmon.hfc125', 'AERmon.hfc134a', 'AERmon.hno3', 'AERmon.isop', 'AERmon.jno2', 'AERmon.lossch4', 'AERmon.lossco', 'AERmon.lossn2o', 'AERmon.lwp', 'AERmon.meanage', 'AERmon.mmraerh2o', 'AERmon.mmrbc', 'AERmon.mmrbcSouth30', 'AERmon.mmrdust', 'AERmon.mmrdustSouth30', 'AERmon.mmrnh4', 'AERmon.mmrnh4South30', 'AERmon.mmrno3', 'AERmon.mmrno3South30', 'AERmon.mmroa', 'AERmon.mmroaSouth30', 'AERmon.mmrpm1', 'AERmon.mmrpm10', 'AERmon.mmrpm10South30', 'AERmon.mmrpm1South30', 'AERmon.mmrpm2p5', 'AERmon.mmrpm2p5South30', 'AERmon.mmrso4', 'AERmon.mmrso4South30', 'AERmon.mmrsoa', 'AERmon.mmrsoaSouth30', 'AERmon.mmrss', 'AERmon.mmrssSouth30', 'AERmon.n2o', 'AERmon.nh50', 'AERmon.no', 'AERmon.no2', 'AERmon.o3', 'AERmon.o3inst', 'AERmon.o3loss', 'AERmon.o3prod', 'AERmon.o3ste', 'AERmon.od443aer', 'AERmon.od550aer', 'AERmon.od550aerh2o', 'AERmon.od550aerSouth30', 'AERmon.od550bb', 'AERmon.od550bc', 'AERmon.od550csaer', 'AERmon.od550dust', 'AERmon.od550lt1aer', 'AERmon.od550no3', 'AERmon.od550oa', 'AERmon.od550so4', 'AERmon.od550soa', 'AERmon.od550ss', 'AERmon.od865aer', 'AERmon.oh', 'AERmon.pan', 'AERmon.pfull', 'AERmon.phalf', 'AERmon.photo1d', 'AERmon.pod0', 'AERmon.ptp', 'AERmon.reffclwtop', 'AERmon.reffclwtopSouth30', 'AERmon.rluscsaf', 'AERmon.rlutaf', 'AERmon.rlutch4ref', 'AERmon.rlutcsaf', 'AERmon.rlutcsch4ref', 'AERmon.rlutcso3ref', 'AERmon.rluto3ref', 'AERmon.rsutaf', 'AERmon.rsutch4ref', 'AERmon.rsutcsaf', 'AERmon.rsutcsch4ref', 'AERmon.rsutcso3ref', 'AERmon.rsuto3ref', 'AERmon.so2', 'AERmon.so2South30', 'AERmon.stratch4loss', 'AERmon.tatp', 'AERmon.tntrl', 'AERmon.tntrs', 'AERmon.toz', 'AERmon.tropch4loss', 'AERmon.tropch4lossoh', 'AERmon.tropdo3chm', 'AERmon.tropo3ste', 'AERmon.tropoz', 'AERmon.ttop', 'AERmon.ua', 'AERmon.va', 'AERmon.wa', 'AERmon.wetbc', 'AERmon.wetdust', 'AERmon.wethno3', 'AERmon.wetnh3', 'AERmon.wetnh4', 'AERmon.wetno3', 'AERmon.wetnoy', 'AERmon.wetoa', 'AERmon.wetso2', 'AERmon.wetso4', 'AERmon.wetss', 'AERmon.zg', 'AERmon.ztp', 'AERmonZ.bry', 'AERmonZ.ch4', 'AERmonZ.cly', 'AERmonZ.h2o', 'AERmonZ.hcl', 'AERmonZ.hno3', 'AERmonZ.ho2', 'AERmonZ.meanage', 'AERmonZ.n2o', 'AERmonZ.noy', 'AERmonZ.o3', 'AERmonZ.oh', 'AERmonZ.ta', 'AERmonZ.ua', 'AERmonZ.va', 'AERmonZ.vt100', 'AERmonZ.zg', 'Amon.aod550volso4', 'Amon.ccb', 'Amon.cct', 'Amon.cfc113global', 'Amon.cfc11global', 'Amon.cfc12global', 'Amon.ch4', 'Amon.ch4Clim', 'Amon.ch4global', 'Amon.ch4globalClim', 'Amon.ci', 'Amon.cl', 'Amon.cli', 'Amon.cliSouth30', 'Amon.clivi', 'Amon.cliviSouth30', 'Amon.clSouth30', 'Amon.clt', 'Amon.cltSouth30', 'Amon.clw', 'Amon.clwSouth30', 'Amon.clwvi', 'Amon.clwviSouth30', 'Amon.co2', 'Amon.co2Clim', 'Amon.co2mass', 'Amon.co2massCLim', 'Amon.evspsbl', 'Amon.fco2antt', 'Amon.fco2fos', 'Amon.fco2nat', 'Amon.hcfc22global', 'Amon.hfls', 'Amon.hflsSouth30', 'Amon.hfss', 'Amon.hfssSouth30', 'Amon.hur', 'Amon.hurs', 'Amon.hurSouth30', 'Amon.hursSouth30', 'Amon.hus', 'Amon.huss', 'Amon.husSouth30', 'Amon.hussSouth30', 'Amon.mc', 'Amon.n2o', 'Amon.n2oClim', 'Amon.n2oglobal', 'Amon.n2oglobalClim', 'Amon.o3', 'Amon.o3Clim', 'Amon.pfull', 'Amon.pfullSouth30', 'Amon.phalf', 'Amon.pr', 'Amon.prc', 'Amon.prcSouth30', 'Amon.prra', 'Amon.prraSouth30', 'Amon.prsn', 'Amon.prsnSouth30', 'Amon.prSouth30', 'Amon.prw', 'Amon.prwSouth30', 'Amon.ps', 'Amon.psl', 'Amon.pslSouth30', 'Amon.psSouth30', 'Amon.rlds', 'Amon.rldscs', 'Amon.rldscsSouth30', 'Amon.rldsSouth30', 'Amon.rlus', 'Amon.rluscs', 'Amon.rlusSouth30', 'Amon.rlut', 'Amon.rlutcs', 'Amon.rlutcsSouth30', 'Amon.rlutSouth30', 'Amon.rsds', 'Amon.rsdscs', 'Amon.rsdscsSouth30', 'Amon.rsdsSouth30', 'Amon.rsdt', 'Amon.rsdtSouth30', 'Amon.rsus', 'Amon.rsuscs', 'Amon.rsuscsSouth30', 'Amon.rsusSouth30', 'Amon.rsut', 'Amon.rsutcs', 'Amon.rsutcsSouth30', 'Amon.rsutSouth30', 'Amon.rtmt', 'Amon.sbl', 'Amon.sci', 'Amon.sfcWind', 'Amon.sfcWindSouth30', 'Amon.ta', 'Amon.tas', 'Amon.tasmax', 'Amon.tasmaxSouth30', 'Amon.tasmin', 'Amon.tasminSouth30', 'Amon.taSouth30', 'Amon.tasSouth30', 'Amon.tauu', 'Amon.tauv', 'Amon.ts', 'Amon.tsSouth30', 'Amon.ua', 'Amon.uas', 'Amon.uaSouth30', 'Amon.uasSouth30', 'Amon.va', 'Amon.vas', 'Amon.vaSouth30', 'Amon.vasSouth30', 'Amon.wap', 'Amon.wapSouth30', 'Amon.zg', 'Amon.zgSouth30', 'CF3hr.clic', 'CF3hr.clis', 'CF3hr.clivi', 'CF3hr.clt', 'CF3hr.clwc', 'CF3hr.clws', 'CF3hr.clwvi', 'CF3hr.dtauc', 'CF3hr.dtaus', 'CF3hr.hurs', 'CF3hr.pfull', 'CF3hr.pr', 'CF3hr.prw', 'CF3hr.reffclic', 'CF3hr.reffclis', 'CF3hr.reffclwc', 'CF3hr.reffclws', 'CF3hr.rlds', 'CF3hr.rldscs', 'CF3hr.rlut', 'CF3hr.rlutcs', 'CF3hr.rsds', 'CF3hr.rsdscs', 'CF3hr.rsut', 'CF3hr.rsutcs', 'CF3hr.ta', 'CF3hr.ts', 'CFday.albisccp', 'CFday.ccb', 'CFday.cct', 'CFday.cl', 'CFday.clcalipso', 'CFday.clhcalipso', 'CFday.cli', 'CFday.clisccp', 'CFday.clivi', 'CFday.cllcalipso', 'CFday.clmcalipso', 'CFday.cltcalipso', 'CFday.cltisccp', 'CFday.clw', 'CFday.clwvi', 'CFday.hur', 'CFday.hur700', 'CFday.hus', 'CFday.mc', 'CFday.pctisccp', 'CFday.pfull', 'CFday.phalf', 'CFday.ps', 'CFday.rldscs', 'CFday.rlutcs', 'CFday.rsdscs', 'CFday.rsdt', 'CFday.rsuscs', 'CFday.rsut', 'CFday.rsutcs', 'CFday.ta', 'CFday.ta700', 'CFday.ua', 'CFday.va', 'CFday.wap', 'CFday.wap500', 'CFday.zg', 'CFmon.albisccp', 'CFmon.albisccpSouth30', 'CFmon.clc', 'CFmon.clcalipso', 'CFmon.clcalipsoSouth30', 'CFmon.clcSouth30', 'CFmon.clhcalipso', 'CFmon.clhcalipsoSouth30', 'CFmon.clic', 'CFmon.clicSouth30', 'CFmon.clis', 'CFmon.clisccp', 'CFmon.clisccpSouth30', 'CFmon.clisSouth30', 'CFmon.clivimodis', 'CFmon.clivimodisSouth30', 'CFmon.cllcalipso', 'CFmon.cllcalipsoSouth30', 'CFmon.clmcalipso', 'CFmon.clmcalipsoSouth30', 'CFmon.clmodis', 'CFmon.clmodisice', 'CFmon.clmodisiceReff', 'CFmon.clmodisiceSouth30', 'CFmon.clmodisliquid', 'CFmon.clmodisliquidReff', 'CFmon.clmodisliquidSouth30', 'CFmon.clmodisSouth30', 'CFmon.cls', 'CFmon.clsSouth30', 'CFmon.cltcalipso', 'CFmon.cltcalipsoSouth30', 'CFmon.cltisccp', 'CFmon.cltisccpSouth30', 'CFmon.cltmodisSouth30', 'CFmon.clwc', 'CFmon.clwcSouth30', 'CFmon.clws', 'CFmon.clwsSouth30', 'CFmon.clwvimodis', 'CFmon.clwvimodisSouth30', 'CFmon.dmc', 'CFmon.dmcSouth30', 'CFmon.edt', 'CFmon.edtSouth30', 'CFmon.evu', 'CFmon.evuSouth30', 'CFmon.hur', 'CFmon.hurSouth30', 'CFmon.hus', 'CFmon.husSouth30', 'CFmon.mcd', 'CFmon.mcdSouth30', 'CFmon.mcu', 'CFmon.mcuSouth30', 'CFmon.pctisccp', 'CFmon.pctisccpSouth30', 'CFmon.rld', 'CFmon.rld4co2', 'CFmon.rldcs', 'CFmon.rldcs4co2', 'CFmon.rlu', 'CFmon.rlu4co2', 'CFmon.rlucs', 'CFmon.rlucs4co2', 'CFmon.rlut4co2', 'CFmon.rlutcs4co2', 'CFmon.rsd', 'CFmon.rsd4co2', 'CFmon.rsdcs', 'CFmon.rsdcs4co2', 'CFmon.rsu', 'CFmon.rsu4co2', 'CFmon.rsucs', 'CFmon.rsucs4co2', 'CFmon.rsut4co2', 'CFmon.rsutcs4co2', 'CFmon.smc', 'CFmon.ta', 'CFmon.taSouth30', 'CFmon.tnhus', 'CFmon.tnhusa', 'CFmon.tnhusc', 'CFmon.tnhusd', 'CFmon.tnhusmp', 'CFmon.tnhusscpbl', 'CFmon.tnt', 'CFmon.tnta', 'CFmon.tntc', 'CFmon.tntmp', 'CFmon.tntr', 'CFmon.tntscpbl', 'CFsubhr.ccb', 'CFsubhr.cct', 'CFsubhr.ci', 'CFsubhr.cl', 'CFsubhr.cli', 'CFsubhr.clivi', 'CFsubhr.clt', 'CFsubhr.clw', 'CFsubhr.clwvi', 'CFsubhr.edt', 'CFsubhr.evspsbl', 'CFsubhr.evu', 'CFsubhr.fco2antt', 'CFsubhr.fco2fos', 'CFsubhr.fco2nat', 'CFsubhr.hfls', 'CFsubhr.hfss', 'CFsubhr.hur', 'CFsubhr.hurs', 'CFsubhr.hus', 'CFsubhr.huss', 'CFsubhr.mc', 'CFsubhr.pfull', 'CFsubhr.phalf', 'CFsubhr.pr', 'CFsubhr.prc', 'CFsubhr.prsn', 'CFsubhr.prw', 'CFsubhr.ps', 'CFsubhr.psl', 'CFsubhr.rld', 'CFsubhr.rldcs', 'CFsubhr.rlds', 'CFsubhr.rldscs', 'CFsubhr.rlu', 'CFsubhr.rlucs', 'CFsubhr.rlus', 'CFsubhr.rlut', 'CFsubhr.rlutcs', 'CFsubhr.rsd', 'CFsubhr.rsdcs', 'CFsubhr.rsds', 'CFsubhr.rsdscs', 'CFsubhr.rsdt', 'CFsubhr.rsu', 'CFsubhr.rsucs', 'CFsubhr.rsus', 'CFsubhr.rsuscs', 'CFsubhr.rsut', 'CFsubhr.rsutcs', 'CFsubhr.rtmt', 'CFsubhr.sbl', 'CFsubhr.sci', 'CFsubhr.sfcWind', 'CFsubhr.ta', 'CFsubhr.tas', 'CFsubhr.tauu', 'CFsubhr.tauv', 'CFsubhr.tnhus', 'CFsubhr.tnhusa', 'CFsubhr.tnhusc', 'CFsubhr.tnhusd', 'CFsubhr.tnhusmp', 'CFsubhr.tnhusscpbl', 'CFsubhr.tnt', 'CFsubhr.tnta', 'CFsubhr.tntc', 'CFsubhr.tntmp', 'CFsubhr.tntr', 'CFsubhr.tntscpbl', 'CFsubhr.ts', 'CFsubhr.ua', 'CFsubhr.uas', 'CFsubhr.va', 'CFsubhr.vas', 'CFsubhr.wap', 'CFsubhr.zg', 'day.clt', 'day.hfls', 'day.hfss', 'day.hur', 'day.hurs', 'day.hursmax', 'day.hursmin', 'day.hus', 'day.huss', 'day.irrDem', 'day.irrGw', 'day.irrLut', 'day.irrSurf', 'day.mrro', 'day.mrso', 'day.mrsos', 'day.noaahi2m', 'day.noaahi2mmax', 'day.pr', 'day.prc', 'day.prsn', 'day.psl', 'day.rlds', 'day.rls', 'day.rlus', 'day.rluscs', 'day.rlut', 'day.rsds', 'day.rss', 'day.rsus', 'day.sfcWind', 'day.sfcWindmax', 'day.snc', 'day.snw', 'day.ta', 'day.tas', 'day.tasmax', 'day.tasmin', 'day.tslsi', 'day.ua', 'day.uas', 'day.va', 'day.vas', 'day.wap', 'day.wbgt2m', 'day.wbgt2mmax', 'day.zg', 'E1hr.bldep', 'E1hr.clt', 'E1hr.hfls', 'E1hr.hfss', 'E1hr.hurs', 'E1hr.hursSouth30', 'E1hr.huss', 'E1hr.pr', 'E1hr.prSouth30', 'E1hr.ps', 'E1hr.psl', 'E1hr.psSouth30', 'E1hr.rlds', 'E1hr.rldsSouth30', 'E1hr.rlus', 'E1hr.rsds', 'E1hr.rsdsdiff', 'E1hr.rsdsSouth30', 'E1hr.rsus', 'E1hr.sfcWind', 'E1hr.sfcWindSouth30', 'E1hr.tas', 'E1hr.tasSouth30', 'E1hr.ts', 'E1hr.ua100m', 'E1hr.uas', 'E1hr.va100m', 'E1hr.vas', 'E1hr.wsgmax100m', 'E1hr.wsgmax10m', 'E1hrClimMon.rlut', 'E1hrClimMon.rlutcs', 'E1hrClimMon.rsdt', 'E1hrClimMon.rsut', 'E1hrClimMon.rsutcs', 'E3hr.clivi', 'E3hr.clwvi', 'E3hr.prw', 'E3hr.rlut', 'E3hr.rlutcs', 'E3hr.rsut', 'E3hr.rsutcs', 'E3hr.sfcWind', 'E3hrPt.cltcalipso', 'E3hrPt.conccn', 'E3hrPt.hus', 'E3hrPt.hus6', 'E3hrPt.mmraerh2o', 'E3hrPt.mmrbc', 'E3hrPt.mmrdust', 'E3hrPt.mmrnh4', 'E3hrPt.mmrno3', 'E3hrPt.mmroa', 'E3hrPt.mmrso4', 'E3hrPt.mmrss', 'E3hrPt.so2', 'E3hrPt.ta6', 'E3hrPt.ua6', 'E3hrPt.va6', 'E3hrPt.wap6', 'Eday.ccldncl', 'Eday.cldnci', 'Eday.cldnvi', 'Eday.clivic', 'Eday.clt', 'Eday.clwvic', 'Eday.dcw', 'Eday.dgw', 'Eday.drivw', 'Eday.dslw', 'Eday.dsn', 'Eday.dsw', 'Eday.esn', 'Eday.evspsbl', 'Eday.evspsblpot', 'Eday.evspsblsoi', 'Eday.evspsblveg', 'Eday.flashrate', 'Eday.gppVgt', 'Eday.hfdsn', 'Eday.hfdsnb', 'Eday.hursminCrop', 'Eday.intuadse', 'Eday.intuaw', 'Eday.intvadse', 'Eday.intvaw', 'Eday.jpdftaureicemodis', 'Eday.jpdftaureliqmodis', 'Eday.lai', 'Eday.laiVgt', 'Eday.loadbc', 'Eday.loaddust', 'Eday.loadnh4', 'Eday.loadno3', 'Eday.loadoa', 'Eday.loadpoa', 'Eday.loadso4', 'Eday.loadsoa', 'Eday.loadss', 'Eday.lwsnl', 'Eday.mlotst', 'Eday.mrrob', 'Eday.mrros', 'Eday.mrsfl', 'Eday.mrsll', 'Eday.mrsol', 'Eday.mrsow', 'Eday.mrtws', 'Eday.nppVgt', 'Eday.parasolRefl', 'Eday.pflw', 'Eday.prCrop', 'Eday.prhmax', 'Eday.prra', 'Eday.prrsn', 'Eday.prsnc', 'Eday.prsnsn', 'Eday.prw', 'Eday.qgwr', 'Eday.raVgt', 'Eday.reffcclwtop', 'Eday.reffsclwtop', 'Eday.rhVgt', 'Eday.rivi', 'Eday.rivo', 'Eday.rsdscsdiff', 'Eday.rsdsdiff', 'Eday.rzwc', 'Eday.sbl', 'Eday.scldncl', 'Eday.snd', 'Eday.snm', 'Eday.snmsl', 'Eday.snrefr', 'Eday.snwc', 'Eday.sw', 'Eday.t20d', 'Eday.ta850', 'Eday.tasmaxCrop', 'Eday.tasminCrop', 'Eday.tauu', 'Eday.tauupbl', 'Eday.tauv', 'Eday.tauvpbl', 'Eday.tdps', 'Eday.tpf', 'Eday.ts', 'Eday.tsl', 'Eday.tsn', 'Eday.tsns', 'Eday.utendnogw', 'Eday.utendogw', 'Eday.vtendnogw', 'Eday.vtendogw', 'Eday.wtd', 'EdayZ.epfy', 'EdayZ.epfz', 'EdayZ.psitem', 'EdayZ.ta', 'EdayZ.tauunoegw', 'EdayZ.tauunowgw', 'EdayZ.tauuogw', 'EdayZ.tauvnogw', 'EdayZ.tauvogw', 'EdayZ.tntmp', 'EdayZ.tntrl', 'EdayZ.tntrs', 'EdayZ.ua', 'EdayZ.utendepfd', 'EdayZ.utendnogw', 'EdayZ.utendogw', 'EdayZ.utendvtem', 'EdayZ.utendwtem', 'EdayZ.vtem', 'EdayZ.wtem', 'EdayZ.zg', 'Efx.sftflf', 'Efx.sftgrf', 'Efx.slthick', 'Emon.albc', 'Emon.albsn', 'Emon.albsrfc', 'Emon.c13Land', 'Emon.c13Litter', 'Emon.c13Soil', 'Emon.c13Veg', 'Emon.c14Land', 'Emon.c14Litter', 'Emon.c14Soil', 'Emon.c14Veg', 'Emon.ccldncl', 'Emon.cfadDbze94', 'Emon.cfadLidarsr532', 'Emon.cLand', 'Emon.clcalipsoice', 'Emon.clcalipsoliq', 'Emon.cldnci', 'Emon.cldncl', 'Emon.cldnvi', 'Emon.climodis', 'Emon.cLitterCwd', 'Emon.cLitterSubSurf', 'Emon.cLitterSurf', 'Emon.clmisr', 'Emon.cltmodis', 'Emon.clwmodis', 'Emon.cnc', 'Emon.co23D', 'Emon.co2s', 'Emon.cOther', 'Emon.cropFracC3', 'Emon.cropFracC4', 'Emon.cSoil', 'Emon.cSoilAbove1m', 'Emon.cSoilLevels', 'Emon.cSoilPools', 'Emon.cStem', 'Emon.cVegGrass', 'Emon.cVegShrub', 'Emon.cVegTree', 'Emon.cWood', 'Emon.depdust', 'Emon.dissi14c', 'Emon.ec550aer', 'Emon.evspsblpot', 'Emon.expcalc', 'Emon.fAnthDisturb', 'Emon.fBNF', 'Emon.fCLandToOcean', 'Emon.fDeforestToAtmos', 'Emon.fDeforestToProduct', 'Emon.fFireAll', 'Emon.fFireNat', 'Emon.fg14co2', 'Emon.fHarvestToAtmos', 'Emon.fHarvestToProduct', 'Emon.flandice', 'Emon.flashrate', 'Emon.fLitterFire', 'Emon.fLuc', 'Emon.fLulccAtmLut', 'Emon.fN2O', 'Emon.fNAnthDisturb', 'Emon.fNdep', 'Emon.fNfert', 'Emon.fNgas', 'Emon.fNgasFire', 'Emon.fNgasNonFire', 'Emon.fNLandToOcean', 'Emon.fNleach', 'Emon.fNLitterSoil', 'Emon.fNloss', 'Emon.fNnetmin', 'Emon.fNOx', 'Emon.fNProduct', 'Emon.fNup', 'Emon.fNVegLitter', 'Emon.fNVegSoil', 'Emon.fProductDecomp', 'Emon.fracLut', 'Emon.fVegFire', 'Emon.fVegLitterMortality', 'Emon.fVegLitterSenescence', 'Emon.fVegSoilMortality', 'Emon.fVegSoilSenescence', 'Emon.gppc13', 'Emon.gppc14', 'Emon.gppGrass', 'Emon.gppLut', 'Emon.gppShrub', 'Emon.gppTree', 'Emon.grassFracC3', 'Emon.grassFracC4', 'Emon.hflsLut', 'Emon.hfssLut', 'Emon.intuadse', 'Emon.intuaw', 'Emon.intvadse', 'Emon.intvaw', 'Emon.irrLut', 'Emon.jpdftaureicemodis', 'Emon.jpdftaureliqmodis', 'Emon.laiLut', 'Emon.loadso4', 'Emon.mrsfl', 'Emon.mrsll', 'Emon.mrsol', 'Emon.mrsosLut', 'Emon.mrtws', 'Emon.necbLut', 'Emon.nep', 'Emon.netAtmosLandC13Flux', 'Emon.netAtmosLandC14Flux', 'Emon.netAtmosLandCO2Flux', 'Emon.nLand', 'Emon.nLeaf', 'Emon.nLitter', 'Emon.nLitterCwd', 'Emon.nLitterSubSurf', 'Emon.nLitterSurf', 'Emon.nMineral', 'Emon.nMineralNH4', 'Emon.nMineralNO3', 'Emon.nOther', 'Emon.nppGrass', 'Emon.nppLut', 'Emon.nppOther', 'Emon.nppShrub', 'Emon.nppStem', 'Emon.nppTree', 'Emon.nProduct', 'Emon.nRoot', 'Emon.nSoil', 'Emon.nStem', 'Emon.nVeg', 'Emon.osaltpsmadvect', 'Emon.parasolRefl', 'Emon.pastureFracC3', 'Emon.pastureFracC4', 'Emon.pr17O', 'Emon.pr18O', 'Emon.pr2h', 'Emon.prhmax', 'Emon.prsn18O', 'Emon.prsn2h', 'Emon.rac13', 'Emon.rac14', 'Emon.raGrass', 'Emon.raLeaf', 'Emon.raLut', 'Emon.raOther', 'Emon.raRoot', 'Emon.raShrub', 'Emon.raStem', 'Emon.raTree', 'Emon.reffcclwtop', 'Emon.reffccwctop', 'Emon.reffclic', 'Emon.reffclicSouth30', 'Emon.reffclis', 'Emon.reffclisSouth30', 'Emon.reffclwc', 'Emon.reffclwcSouth30', 'Emon.reffclws', 'Emon.reffclwsSouth30', 'Emon.reffsclwtop', 'Emon.rhc13', 'Emon.rhc14', 'Emon.rhGrass', 'Emon.rhLitter', 'Emon.rhLut', 'Emon.rhShrub', 'Emon.rhSoil', 'Emon.rhTree', 'Emon.rls', 'Emon.rsdslni', 'Emon.rsdsoni', 'Emon.rsdss', 'Emon.rsdssi', 'Emon.rss', 'Emon.rsuslni', 'Emon.rsusoni', 'Emon.rsuss', 'Emon.rsussi', 'Emon.scldncl', 'Emon.sfcWindmax', 'Emon.sw17O', 'Emon.sw18O', 'Emon.sw2H', 'Emon.sweLut', 'Emon.t17d', 'Emon.t20d', 'Emon.tasLut', 'Emon.tauunoegw', 'Emon.tauunowgw', 'Emon.tauuogw', 'Emon.tauvnogw', 'Emon.tauvogw', 'Emon.tdps', 'Emon.thetaot', 'Emon.thetaot2000', 'Emon.thetaot300', 'Emon.thetaot700', 'Emon.tnhuspbl', 'Emon.tnhusscp', 'Emon.tntd', 'Emon.tntpbl', 'Emon.tntrlcs', 'Emon.tntrscs', 'Emon.tntscp', 'Emon.treeFracBdlDcd', 'Emon.treeFracBdlEvg', 'Emon.treeFracNdlDcd', 'Emon.treeFracNdlEvg', 'Emon.tslsiLut', 'Emon.utendnogw', 'Emon.utendogw', 'Emon.vegFrac', 'Emon.vegHeight', 'Emon.vegHeightGrass', 'Emon.vegHeightShrub', 'Emon.vegHeightTree', 'Emon.vtendnogw', 'Emon.vtendogw', 'Emon.wetlandCH4', 'Emon.wetlandCH4cons', 'Emon.wetlandCH4prod', 'Emon.wetlandFrac', 'Emon.wsgmax100m', 'Emon.wsgmax10m', 'EmonZ.epfy', 'EmonZ.epfz', 'EmonZ.tntc', 'EmonZ.tntmp', 'EmonZ.tntnogw', 'EmonZ.tntogw', 'EmonZ.tntrl', 'EmonZ.tntrlcs', 'EmonZ.tntrs', 'EmonZ.tntrscs', 'EmonZ.tntscp', 'EmonZ.utendepfd', 'EmonZ.utendnogw', 'EmonZ.utendogw', 'EmonZ.vtem', 'EmonZ.wtem', 'Esubhr.reffclic', 'Esubhr.reffclis', 'Esubhr.reffclwc', 'Esubhr.reffclws', 'Esubhr.tnhuspbl', 'Esubhr.tnhusscp', 'Esubhr.tntd', 'Esubhr.tntpbl', 'Esubhr.tntrl', 'Esubhr.tntrlcs', 'Esubhr.tntrs', 'Esubhr.tntrscs', 'Esubhr.tntscp', 'Eyr.baresoilFrac', 'Eyr.cLitterLut', 'Eyr.cProductLut', 'Eyr.cropFrac', 'Eyr.cSoilLut', 'Eyr.cVegLut', 'Eyr.fracInLut', 'Eyr.fracLut', 'Eyr.fracOutLut', 'Eyr.grassFrac', 'Eyr.residualFrac', 'Eyr.shrubFrac', 'Eyr.treeFrac', 'Eyr.vegFrac', 'Eyr.zfullo', 'fx.areacella', 'fx.areacellr', 'fx.depthl', 'fx.depthsl', 'fx.lat', 'fx.lithk', 'fx.lon', 'fx.mrsofc', 'fx.orog', 'fx.orogSouth30', 'fx.rootd', 'fx.sftgif', 'fx.sftlaf', 'fx.sftlf', 'fx.zfull', 'IfxAnt.areacellg', 'IfxAnt.hfgeoubed', 'IfxAnt.lithk', 'IfxAnt.topg', 'IfxGre.areacellg', 'IfxGre.hfgeoubed', 'IfxGre.lithk', 'IfxGre.topg', 'ImonAnt.acabf', 'ImonAnt.hfls', 'ImonAnt.hfss', 'ImonAnt.icem', 'ImonAnt.libmassbffl', 'ImonAnt.libmassbfgr', 'ImonAnt.licalvf', 'ImonAnt.lifmassbf', 'ImonAnt.litempbotfl', 'ImonAnt.litempbotgr', 'ImonAnt.litemptop', 'ImonAnt.mrroLi', 'ImonAnt.orog', 'ImonAnt.prra', 'ImonAnt.prsn', 'ImonAnt.rlds', 'ImonAnt.rlus', 'ImonAnt.rsds', 'ImonAnt.rsus', 'ImonAnt.sbl', 'ImonAnt.snc', 'ImonAnt.snicefreez', 'ImonAnt.snicem', 'ImonAnt.snm', 'ImonAnt.tas', 'ImonAnt.ts', 'ImonAnt.tsn', 'ImonGre.acabf', 'ImonGre.hfls', 'ImonGre.hfss', 'ImonGre.icem', 'ImonGre.libmassbffl', 'ImonGre.libmassbfgr', 'ImonGre.licalvf', 'ImonGre.lifmassbf', 'ImonGre.litempbotfl', 'ImonGre.litempbotgr', 'ImonGre.litemptop', 'ImonGre.mrroLi', 'ImonGre.orog', 'ImonGre.prra', 'ImonGre.prsn', 'ImonGre.rlds', 'ImonGre.rlus', 'ImonGre.rsds', 'ImonGre.rsus', 'ImonGre.sbl', 'ImonGre.snc', 'ImonGre.snicefreez', 'ImonGre.snicem', 'ImonGre.snm', 'ImonGre.tas', 'ImonGre.ts', 'ImonGre.tsn', 'IyrAnt.acabf', 'IyrAnt.hfgeoubed', 'IyrAnt.iareafl', 'IyrAnt.iareagr', 'IyrAnt.libmassbffl', 'IyrAnt.libmassbfgr', 'IyrAnt.licalvf', 'IyrAnt.lifmassbf', 'IyrAnt.lim', 'IyrAnt.limnsw', 'IyrAnt.litempbotfl', 'IyrAnt.litempbotgr', 'IyrAnt.litemptop', 'IyrAnt.lithk', 'IyrAnt.modelCellAreai', 'IyrAnt.orog', 'IyrAnt.sftflf', 'IyrAnt.sftgif', 'IyrAnt.sftgrf', 'IyrAnt.snc', 'IyrAnt.strbasemag', 'IyrAnt.tendacabf', 'IyrAnt.tendlibmassbf', 'IyrAnt.tendlicalvf', 'IyrAnt.topg', 'IyrAnt.xvelbase', 'IyrAnt.xvelmean', 'IyrAnt.xvelsurf', 'IyrAnt.yvelbase', 'IyrAnt.yvelmean', 'IyrAnt.yvelsurf', 'IyrAnt.zvelbase', 'IyrAnt.zvelsurf', 'IyrGre.acabf', 'IyrGre.hfgeoubed', 'IyrGre.iareafl', 'IyrGre.iareagr', 'IyrGre.libmassbffl', 'IyrGre.libmassbfgr', 'IyrGre.licalvf', 'IyrGre.lifmassbf', 'IyrGre.lim', 'IyrGre.limnsw', 'IyrGre.litempbotfl', 'IyrGre.litempbotgr', 'IyrGre.litemptop', 'IyrGre.lithk', 'IyrGre.modelCellAreai', 'IyrGre.orog', 'IyrGre.sftflf', 'IyrGre.sftgif', 'IyrGre.sftgrf', 'IyrGre.snc', 'IyrGre.strbasemag', 'IyrGre.tendacabf', 'IyrGre.tendlibmassbf', 'IyrGre.tendlicalvf', 'IyrGre.topg', 'IyrGre.xvelbase', 'IyrGre.xvelmean', 'IyrGre.xvelsurf', 'IyrGre.yvelbase', 'IyrGre.yvelmean', 'IyrGre.yvelsurf', 'IyrGre.zvelbase', 'IyrGre.zvelsurf', 'LImon.acabfIs', 'LImon.agesno', 'LImon.hfdsn', 'LImon.hflsIs', 'LImon.hfssIs', 'LImon.icemIs', 'LImon.litemptopIs', 'LImon.lwsnl', 'LImon.mrroIs', 'LImon.orogIs', 'LImon.pflw', 'LImon.prraIs', 'LImon.prsnIs', 'LImon.rldsIs', 'LImon.rlusIs', 'LImon.rsdsIs', 'LImon.rsusIs', 'LImon.sbl', 'LImon.sblIs', 'LImon.sftflf', 'LImon.sftgif', 'LImon.sftgrf', 'LImon.snc', 'LImon.sncIs', 'LImon.snd', 'LImon.snicefreezIs', 'LImon.snicemIs', 'LImon.snm', 'LImon.snmIs', 'LImon.snw', 'LImon.sootsn', 'LImon.tasIs', 'LImon.tpf', 'LImon.tsIs', 'LImon.tsn', 'LImon.tsnIs', 'Lmon.baresoilFrac', 'Lmon.burntFractionAll', 'Lmon.c3PftFrac', 'Lmon.c4PftFrac', 'Lmon.cGeologicStorage', 'Lmon.cLeaf', 'Lmon.cLitter', 'Lmon.cProduct', 'Lmon.cRoot', 'Lmon.cropFrac', 'Lmon.cVeg', 'Lmon.evspsblsoi', 'Lmon.evspsblveg', 'Lmon.fFire', 'Lmon.fHarvestToGeologicStorage', 'Lmon.fLitterSoil', 'Lmon.fVegLitter', 'Lmon.fVegSoil', 'Lmon.gpp', 'Lmon.grassFrac', 'Lmon.lai', 'Lmon.landCoverFrac', 'Lmon.mrfso', 'Lmon.mrro', 'Lmon.mrros', 'Lmon.mrso', 'Lmon.mrsos', 'Lmon.nbp', 'Lmon.npp', 'Lmon.nppLeaf', 'Lmon.nppRoot', 'Lmon.pastureFrac', 'Lmon.prveg', 'Lmon.ra', 'Lmon.residualFrac', 'Lmon.rh', 'Lmon.shrubFrac', 'Lmon.tran', 'Lmon.treeFrac', 'Lmon.tsl', 'Oday.bigthetao200', 'Oday.chl200', 'Oday.chlos', 'Oday.co3200', 'Oday.co3os', 'Oday.co3satarag200', 'Oday.co3sataragos', 'Oday.detoc', 'Oday.dissoc', 'Oday.expcob', 'Oday.hfxint', 'Oday.hfyint', 'Oday.intpoc', 'Oday.intpp', 'Oday.o2200', 'Oday.o2min', 'Oday.o2os', 'Oday.ph200', 'Oday.phos', 'Oday.phyc200', 'Oday.phycalc', 'Oday.phycos', 'Oday.phydiatos', 'Oday.phydiazos', 'Oday.phymiscos', 'Oday.phynano', 'Oday.phypico', 'Oday.rsdo', 'Oday.so', 'Oday.sos', 'Oday.thetao200', 'Oday.tos', 'Oday.tossq', 'Oday.uos', 'Oday.vos', 'Oday.wo', 'Oday.zmeso', 'Oday.zmicro', 'Oday.zooc', 'Oday.zos', 'Oday.zostoga', 'Odec.bigthetao', 'Odec.masscello', 'Odec.masso', 'Odec.opottemptend', 'Odec.so', 'Odec.tauuo', 'Odec.tauvo', 'Odec.thetao', 'Odec.thkcello', 'Odec.volcello', 'Odec.volo', 'Ofx.areacello', 'Ofx.basin', 'Ofx.deptho', 'Ofx.dxto', 'Ofx.dxuo', 'Ofx.dxvo', 'Ofx.dyto', 'Ofx.dyuo', 'Ofx.dyvo', 'Ofx.hfgeou', 'Ofx.masscello', 'Ofx.sftof', 'Ofx.thkcello', 'Ofx.volcello', 'Omon.absscint', 'Omon.agessc', 'Omon.arag', 'Omon.aragos', 'Omon.baccos', 'Omon.bigthetao', 'Omon.bigthetaoga', 'Omon.calc', 'Omon.calcos', 'Omon.calcosSouth30', 'Omon.chcint', 'Omon.chl', 'Omon.chlcalc', 'Omon.chlcalcos', 'Omon.chldiat', 'Omon.chldiatos', 'Omon.chldiaz', 'Omon.chldiazos', 'Omon.chlmisc', 'Omon.chlmiscos', 'Omon.chlos', 'Omon.chlosSouth30', 'Omon.chlpico', 'Omon.chlpicoos', 'Omon.detoc', 'Omon.dfe', 'Omon.dfeos', 'Omon.dfeosSouth30', 'Omon.dissi13c', 'Omon.dissi13cos', 'Omon.dissi14cabio', 'Omon.dissi14cabioos', 'Omon.dissic', 'Omon.dissicos', 'Omon.dissoc', 'Omon.dmso', 'Omon.dmsos', 'Omon.dmsosSouth30', 'Omon.dpco2', 'Omon.dpo2', 'Omon.epc100', 'Omon.epc1000', 'Omon.epcalc100', 'Omon.epcalc1000', 'Omon.epn100', 'Omon.epp100', 'Omon.epsi100', 'Omon.evs', 'Omon.exparagob', 'Omon.expc', 'Omon.expcalcob', 'Omon.expcob', 'Omon.expfeob', 'Omon.expnob', 'Omon.exppob', 'Omon.expsiob', 'Omon.fg13co2', 'Omon.fg14co2abio', 'Omon.fgco2', 'Omon.fgdms', 'Omon.ficeberg', 'Omon.ficeberg2d', 'Omon.frfe', 'Omon.fric', 'Omon.friver', 'Omon.frn', 'Omon.froc', 'Omon.fsfe', 'Omon.fsitherm', 'Omon.fsn', 'Omon.graz', 'Omon.grazSouth30', 'Omon.hfacrossline', 'Omon.hfbasin', 'Omon.hfbasinpadv', 'Omon.hfbasinpmadv', 'Omon.hfbasinpmdiff', 'Omon.hfbasinpsmadv', 'Omon.hfds', 'Omon.hfdsSouth30', 'Omon.hfevapds', 'Omon.hfgeou', 'Omon.hfibthermds', 'Omon.hfibthermds2d', 'Omon.hfrainds', 'Omon.hfrunoffds', 'Omon.hfrunoffds2d', 'Omon.hfsnthermds', 'Omon.hfsnthermds2d', 'Omon.hfx', 'Omon.hfxint', 'Omon.hfy', 'Omon.hfyint', 'Omon.htovgyre', 'Omon.htovovrt', 'Omon.icfriver', 'Omon.intdic', 'Omon.intdoc', 'Omon.intparag', 'Omon.intpbfe', 'Omon.intpbn', 'Omon.intpbp', 'Omon.intpbsi', 'Omon.intpcalcite', 'Omon.intpn2', 'Omon.intpoc', 'Omon.intpp', 'Omon.intppcalc', 'Omon.intppcalcSouth30', 'Omon.intppdiat', 'Omon.intppdiatSouth30', 'Omon.intppdiaz', 'Omon.intppdiazSouth30', 'Omon.intppmisc', 'Omon.intppmiscSouth30', 'Omon.intppnano', 'Omon.intppnitrate', 'Omon.intppnitrateSouth30', 'Omon.intpppico', 'Omon.intpppicoSouth30', 'Omon.intppSouth30', 'Omon.limfecalc', 'Omon.limfediat', 'Omon.limfediaz', 'Omon.limfemisc', 'Omon.limfepico', 'Omon.limirrcalc', 'Omon.limirrdiat', 'Omon.limirrdiaz', 'Omon.limirrmisc', 'Omon.limirrpico', 'Omon.limncalc', 'Omon.limndiat', 'Omon.limndiaz', 'Omon.limnmisc', 'Omon.limnpico', 'Omon.masscello', 'Omon.masso', 'Omon.mfo', 'Omon.mlotst', 'Omon.mlotstmax', 'Omon.mlotstmin', 'Omon.mlotstSouth30', 'Omon.mlotstsq', 'Omon.mpw', 'Omon.mpwswell', 'Omon.mpwwindsea', 'Omon.msftbarot', 'Omon.msftmrho', 'Omon.msftmrhompa', 'Omon.msftmz', 'Omon.msftmzmpa', 'Omon.msftmzsmpa', 'Omon.msftyrho', 'Omon.msftyrhompa', 'Omon.msftyz', 'Omon.msftyzmpa', 'Omon.nh4', 'Omon.nh4os', 'Omon.no3', 'Omon.no3os', 'Omon.no3osSouth30', 'Omon.o2', 'Omon.o2os', 'Omon.o2sat', 'Omon.obvfsq', 'Omon.ocfriver', 'Omon.pbo', 'Omon.pfscint', 'Omon.ph', 'Omon.phcint', 'Omon.phos', 'Omon.phyc', 'Omon.phycalc', 'Omon.phycalcos', 'Omon.phycos', 'Omon.phycosSouth30', 'Omon.phydiat', 'Omon.phydiatos', 'Omon.phydiaz', 'Omon.phydiazos', 'Omon.phymisc', 'Omon.phymiscos', 'Omon.phypico', 'Omon.phypicoos', 'Omon.po4', 'Omon.pp', 'Omon.ppos', 'Omon.pposSouth30', 'Omon.pso', 'Omon.scint', 'Omon.sduo', 'Omon.sdvo', 'Omon.sf6', 'Omon.sfacrossline', 'Omon.sfdsi', 'Omon.sfriver', 'Omon.sfx', 'Omon.sfxint', 'Omon.sfy', 'Omon.sfyint', 'Omon.si', 'Omon.sios', 'Omon.sltbasin', 'Omon.sltovgyre', 'Omon.sltovovrt', 'Omon.so', 'Omon.sob', 'Omon.soga', 'Omon.sos', 'Omon.sosga', 'Omon.sosgaSouth30', 'Omon.soSouth30', 'Omon.sossq', 'Omon.spco2', 'Omon.spco2South30', 'Omon.swh', 'Omon.swhmax', 'Omon.swhswell', 'Omon.swhwindsea', 'Omon.talk', 'Omon.tauuo', 'Omon.tauvo', 'Omon.thetao', 'Omon.thetaoga', 'Omon.thetaoSouth30', 'Omon.thkcello', 'Omon.thkcelluo', 'Omon.thkcellvo', 'Omon.tob', 'Omon.tos', 'Omon.tosga', 'Omon.tosSouth30', 'Omon.tossq', 'Omon.umo', 'Omon.umoSouth30', 'Omon.uo', 'Omon.uoSouth30', 'Omon.vmo', 'Omon.vmoSouth30', 'Omon.vo', 'Omon.volcello', 'Omon.volo', 'Omon.voSouth30', 'Omon.vsf', 'Omon.vsfcorr', 'Omon.vsfevap', 'Omon.vsfpr', 'Omon.vsfriver', 'Omon.vsfsit', 'Omon.wdir', 'Omon.wdirswell', 'Omon.wdirwindsea', 'Omon.wfcorr', 'Omon.wfo', 'Omon.wmo', 'Omon.wmoSouth30', 'Omon.wo', 'Omon.woSouth30', 'Omon.wpdir', 'Omon.wpdirswell', 'Omon.wpdirwindsea', 'Omon.wpp', 'Omon.wppswell', 'Omon.wppwindsea', 'Omon.zmeso', 'Omon.zmesoos', 'Omon.zmicro', 'Omon.zmicroos', 'Omon.zmisc', 'Omon.zmiscos', 'Omon.zooc', 'Omon.zoocos', 'Omon.zos', 'Omon.zosSouth30', 'Omon.zossq', 'Omon.zostoga', 'Oyr.difmxybo', 'Oyr.difmxylo', 'Oyr.diftrblo', 'Oyr.diftrelo', 'Oyr.difvho', 'Oyr.difvso', 'Oyr.dispkexyfo', 'Oyr.ocontempdiff', 'Oyr.ocontempmint', 'Oyr.ocontemppadvect', 'Oyr.ocontemppmdiff', 'Oyr.ocontemppsmadvect', 'Oyr.ocontemprmadvect', 'Oyr.ocontemptend', 'Oyr.opottempdiff', 'Oyr.opottempmint', 'Oyr.opottemppadvect', 'Oyr.opottemppmdiff', 'Oyr.opottemppsmadvect', 'Oyr.opottemprmadvect', 'Oyr.opottemptend', 'Oyr.osaltdiff', 'Oyr.osaltpadvect', 'Oyr.osaltpmdiff', 'Oyr.osaltpsmadvect', 'Oyr.osaltrmadvect', 'Oyr.osalttend', 'Oyr.rsdoabsorb', 'Oyr.somint', 'Oyr.tnkebto', 'Oyr.tnpeo', 'Oyr.volcello', 'SIday.siage', 'SIday.siarean', 'SIday.siareas', 'SIday.siconc', 'SIday.siconca', 'SIday.siextentn', 'SIday.siextents', 'SIday.sifb', 'SIday.siflcondbot', 'SIday.siflcondtop', 'SIday.sifllattop', 'SIday.sifllwdtop', 'SIday.sifllwutop', 'SIday.siflsensbot', 'SIday.siflsenstop', 'SIday.siflswdbot', 'SIday.siflswdtop', 'SIday.siflswutop', 'SIday.sihc', 'SIday.siitdconc', 'SIday.siitdsnconc', 'SIday.siitdsnthick', 'SIday.siitdthick', 'SIday.simpconc', 'SIday.simpeffconc', 'SIday.simprefrozen', 'SIday.simpthick', 'SIday.sirdgconc', 'SIday.sirdgthick', 'SIday.sisali', 'SIday.sisaltmass', 'SIday.sisnhc', 'SIday.sisnmassn', 'SIday.sisnmasss', 'SIday.sisnthick', 'SIday.sispeed', 'SIday.sitempbot', 'SIday.sitempsnic', 'SIday.sitemptop', 'SIday.sithick', 'SIday.sitimefrac', 'SIday.siu', 'SIday.siv', 'SIday.sivoln', 'SIday.sivols', 'SImon.siage', 'SImon.siageSouth30', 'SImon.sialgc', 'SImon.siareaacrossline', 'SImon.siarean', 'SImon.siareas', 'SImon.sichl', 'SImon.sicompstren', 'SImon.siconc', 'SImon.siconca', 'SImon.siconcSouth30', 'SImon.sidconcdyn', 'SImon.sidconcth', 'SImon.sidivvel', 'SImon.sidmassdyn', 'SImon.sidmassevapsubl', 'SImon.sidmassgrowthbot', 'SImon.sidmassgrowthsi', 'SImon.sidmassgrowthwat', 'SImon.sidmassmeltbot', 'SImon.sidmassmeltlat', 'SImon.sidmassmelttop', 'SImon.sidmassth', 'SImon.sidmasstranx', 'SImon.sidmasstrany', 'SImon.sidragbot', 'SImon.sidragtop', 'SImon.siextentn', 'SImon.siextents', 'SImon.sifb', 'SImon.siflcondbot', 'SImon.siflcondtop', 'SImon.siflfwbot', 'SImon.siflfwdrain', 'SImon.sifllattop', 'SImon.sifllwdtop', 'SImon.sifllwutop', 'SImon.siflsaltbot', 'SImon.siflsensbot', 'SImon.siflsenstop', 'SImon.siflswdbot', 'SImon.siflswdtop', 'SImon.siflswutop', 'SImon.siforcecoriolx', 'SImon.siforcecorioly', 'SImon.siforceintstrx', 'SImon.siforceintstry', 'SImon.siforcetiltx', 'SImon.siforcetilty', 'SImon.sigpp', 'SImon.sihc', 'SImon.siitdconc', 'SImon.siitdsnconc', 'SImon.siitdsnthick', 'SImon.siitdthick', 'SImon.simass', 'SImon.simassacrossline', 'SImon.simpconc', 'SImon.simpeffconc', 'SImon.simprefrozen', 'SImon.simpthick', 'SImon.sino3', 'SImon.sipr', 'SImon.sirdgconc', 'SImon.sirdgthick', 'SImon.sisali', 'SImon.sisaltmass', 'SImon.sishearvel', 'SImon.sisi', 'SImon.sisnconc', 'SImon.sisndmassdyn', 'SImon.sisndmassmelt', 'SImon.sisndmasssi', 'SImon.sisndmasssnf', 'SImon.sisndmasssubl', 'SImon.sisndmasswind', 'SImon.sisnhc', 'SImon.sisnmass', 'SImon.sisnmassacrossline', 'SImon.sisnmassn', 'SImon.sisnmasss', 'SImon.sisnthick', 'SImon.sisnthickSouth30', 'SImon.sispeed', 'SImon.sistressave', 'SImon.sistressmax', 'SImon.sistrxdtop', 'SImon.sistrxubot', 'SImon.sistrydtop', 'SImon.sistryubot', 'SImon.sitempbot', 'SImon.sitempsnic', 'SImon.sitemptop', 'SImon.sitemptopSouth30', 'SImon.sithick', 'SImon.sithickSouth30', 'SImon.sitimefrac', 'SImon.sitimefracSouth30', 'SImon.siu', 'SImon.siuSouth30', 'SImon.siv', 'SImon.sivol', 'SImon.sivoln', 'SImon.sivols', 'SImon.sivSouth30']),\n",
       " {'frequency': '3hr',\n",
       "  'modeling_realm': 'atmos',\n",
       "  'standard_name': 'cloud_area_fraction',\n",
       "  'units': '%',\n",
       "  'cell_methods': 'area: time: mean',\n",
       "  'cell_measures': 'area: areacella',\n",
       "  'long_name': 'Total Cloud Cover Percentage',\n",
       "  'comment': 'for the whole atmospheric column, as seen from the surface or the top of the atmosphere. Include both large-scale and convective cloud.  This is a 3-hour mean.',\n",
       "  'dimensions': 'longitude latitude time',\n",
       "  'out_name': 'clt',\n",
       "  'type': 'real',\n",
       "  'positive': '',\n",
       "  'spatial_shape': 'XY-na',\n",
       "  'temporal_shape': 'time-intv',\n",
       "  'cmip6_table': '3hr',\n",
       "  'physical_parameter_name': 'clt',\n",
       "  'variableRootDD': 'clt',\n",
       "  'branded_variable_name': 'clt_tavg-u-hxy-u',\n",
       "  'uid': 'baaad560-e5dd-11e5-8482-ac72891c3257'})"
      ]
     },
     "execution_count": 2,
     "metadata": {},
     "output_type": "execute_result"
    }
   ],
   "source": [
    "vars.keys(), list(vars.values())[0]"
   ]
  },
  {
   "cell_type": "code",
   "execution_count": 3,
   "metadata": {},
   "outputs": [],
   "source": [
    "def common_key_val(data):\n",
    "    return {\n",
    "        k: v for k, v in data[0].items()\n",
    "        if all(d.get(k) == v for d in data[1:])\n",
    "    }"
   ]
  },
  {
   "cell_type": "code",
   "execution_count": 4,
   "metadata": {},
   "outputs": [],
   "source": [
    "def common_by_var(var):\n",
    "    root = {}\n",
    "    for i in vars:\n",
    "        if vars[i]['variableRootDD'] in root:\n",
    "            root[vars[i]['variableRootDD']].append(vars[i])\n",
    "        else:\n",
    "            root[vars[i]['variableRootDD']] = [vars[i]]\n",
    "    \n",
    "    multiples = [i for i in root if len(root[i]) > 1 ]\n",
    "    \n",
    "    keys = []\n",
    "\n",
    "\n",
    "    for i in multiples:\n",
    "        data = root[i]\n",
    "        common = common_key_val(data)\n",
    "        # keys.extend(list(common.keys()))\n",
    "        keys.append(common)\n",
    "        \n",
    "    common_keys = set.intersection(*(set(d.keys()) for d in keys))\n",
    "    \n",
    "    return common_keys\n",
    "\n",
    "        \n",
    "            "
   ]
  },
  {
   "cell_type": "code",
   "execution_count": 5,
   "metadata": {},
   "outputs": [],
   "source": [
    "# common_by_var('standard_name')"
   ]
  },
  {
   "cell_type": "code",
   "execution_count": 6,
   "metadata": {},
   "outputs": [],
   "source": [
    "keygroups = {}\n",
    "for k in list(vars.values())[0].keys():\n",
    "    common = common_by_var(k)\n",
    "    # print(f\"Common keys for {k}: {common}\")\n",
    "    keygroups[k] = common\n",
    "    \n",
    "    "
   ]
  },
  {
   "cell_type": "code",
   "execution_count": 7,
   "metadata": {},
   "outputs": [],
   "source": [
    "from collections import defaultdict\n",
    "# Reverse the mapping\n",
    "grouped = defaultdict(set)\n",
    "\n",
    "for key, value_set in keygroups.items():\n",
    "    grouped[frozenset(value_set)].add(key)\n",
    "    \n",
    "grouped = list(grouped)"
   ]
  },
  {
   "cell_type": "code",
   "execution_count": null,
   "metadata": {},
   "outputs": [],
   "source": []
  },
  {
   "cell_type": "code",
   "execution_count": 8,
   "metadata": {},
   "outputs": [],
   "source": [
    "varrtdd = {}\n",
    "for k, v in vars.items():\n",
    "    if v['variableRootDD'] not in varrtdd:\n",
    "        varrtdd[v['variableRootDD']] = {k: v[k] for k in {'standard_name', 'type', 'variableRootDD'} if k in v}\n",
    "    else:\n",
    "        assert varrtdd[v['variableRootDD']] == {k: v[k] for k in {'standard_name', 'type', 'variableRootDD'} if k in v}"
   ]
  },
  {
   "cell_type": "code",
   "execution_count": 24,
   "metadata": {},
   "outputs": [],
   "source": [
    "# write jsonld \n",
    "folder = '../src-data/variable-root/'\n",
    "\n",
    "\n",
    "for s in varrtdd.values():\n",
    "    name  = s['variableRootDD'].lower().replace(' ', '-').replace('_', '-')\n",
    "    \n",
    "    jld = {\n",
    "        'id': name,\n",
    "        'validation-key': name,\n",
    "        'ui-label'  : s['variableRootDD'],\n",
    "        'data-type' : s['type'],\n",
    "        'standard-name': s['standard_name'],\n",
    "        'type': ['wcrp:variable-root','variable-registry',],\n",
    "        '@context': '_context_'\n",
    "    }\n",
    "    \n",
    "    with open(f\"{folder}{name}.json\", 'w') as f:\n",
    "        json.dump(jld, f, indent=4, ensure_ascii=False)\n",
    "\n",
    "        \n",
    "ctx = {\n",
    "    \"@context\": {\n",
    "        \"@base\": \"https://wcrp-cmip.github.io/Variable-Registry/variable-root/\",\n",
    "        \"@vocab\": \"https://wcrp-cmip.github.io/Variable-Registry/variable-root/\",\n",
    "        \"standard-name\": {\n",
    "                \"@type\": \"@id\",\n",
    "                \"@context\": \"https://wcrp-cmip.github.io/CF/standard-name/_context_\"\n",
    "            }\n",
    "    },\n",
    "    \"@embed\": \"@always\"\n",
    "}\n",
    "\n",
    "with open(f'{folder}_context_', 'w') as f:\n",
    "    json.dump(ctx, f, indent=4, ensure_ascii=False)"
   ]
  },
  {
   "cell_type": "markdown",
   "metadata": {},
   "source": [
    "clear!"
   ]
  },
  {
   "cell_type": "code",
   "execution_count": 10,
   "metadata": {},
   "outputs": [
    {
     "data": {
      "text/plain": [
       "80"
      ]
     },
     "execution_count": 10,
     "metadata": {},
     "output_type": "execute_result"
    }
   ],
   "source": [
    "import glob\n",
    "cm = glob.glob('../src-data/cell-method/*.json')\n",
    "cellmethods = {}\n",
    "for i in cm: \n",
    "    with open(i, 'r') as f:\n",
    "        c = json.load(f)\n",
    "        cellmethods[c['description']] = c['id']\n",
    "        \n",
    "len(cellmethods)"
   ]
  },
  {
   "cell_type": "code",
   "execution_count": 25,
   "metadata": {},
   "outputs": [
    {
     "name": "stdout",
     "output_type": "stream",
     "text": [
      "Error: unknown01 does not have the expected format\n",
      "Error: unknown02 does not have the expected format\n",
      "Error: unknown03 does not have the expected format\n",
      "Error: unknown04 does not have the expected format\n",
      "Error: unknown05 does not have the expected format\n"
     ]
    },
    {
     "data": {
      "text/plain": [
       "OrderedDict([('id', 'siv_tavg-u-hxy-si'),\n",
       "             ('validation-key', 'siv_tavg-u-hxy-si'),\n",
       "             ('ui-label', 'Y-Component of Sea-Ice Velocity'),\n",
       "             ('description',\n",
       "              'Y-component of sea-ice velocity on native model grid.'),\n",
       "             ('variable-root', 'siv'),\n",
       "             ('temporal-label', 'tavg'),\n",
       "             ('vertical-label', 'u'),\n",
       "             ('horizontal-label', 'hxy'),\n",
       "             ('area-label', 'si'),\n",
       "             ('remove-cmip6-table', 'SImon'),\n",
       "             ('frequency', 'mon'),\n",
       "             ('standard-name', 'sea_ice_y_velocity'),\n",
       "             ('units', 'm s-1'),\n",
       "             ('cell-methods',\n",
       "              'Error: area: time: mean where sea_ice (mask=siconc) not found in cell methods, please register'),\n",
       "             ('cell-measures', '::MODEL'),\n",
       "             ('dimensions', ['longitude', 'latitude', 'time']),\n",
       "             ('out-name', 'siv'),\n",
       "             ('type', ['wcrp:variable', 'variable-registry']),\n",
       "             ('positive', ''),\n",
       "             ('spatial-shape', 'XY-na'),\n",
       "             ('temporal-shape', 'time-intv'),\n",
       "             ('physical-parameter-name', 'siv'),\n",
       "             ('model-realm', 'seaice'),\n",
       "             ('@context', '_context_')])"
      ]
     },
     "execution_count": 25,
     "metadata": {},
     "output_type": "execute_result"
    }
   ],
   "source": [
    "\n",
    "import re \n",
    "from collections import OrderedDict\n",
    "varlist = []\n",
    "dims = []\n",
    "for vr in vars.values():\n",
    "    \n",
    "    # del vr['type'], vr['standard_name']\n",
    "    vr = {re.sub(r'(?<!^)(?=[A-Z])', '_', k).lower().replace('_', '-'): v for k, v in vr.items()}\n",
    "\n",
    "    vr['cell-methods']  = cellmethods.get(vr['cell-methods'], f\"Error: {vr['cell-methods']} not found in cell methods, please register\")\n",
    "    vr['dimensions'] = vr['dimensions'].lower().split(' ')\n",
    "    vr['model-realm'] = vr['modeling-realm'].lower().replace(' ', '-').replace('_', '-')\n",
    "    \n",
    "    dims.extend(vr['dimensions'])\n",
    "    \n",
    "    # <temporalLabelDD>- <verticalLabelDD>-<horizontalLabelDD>-<areaLabelDD>\n",
    "    # print(vr.keys())\n",
    "    \n",
    "    try:\n",
    "        branding = vr['branded-variable-name'].split('_')[1].split('-') \n",
    "    except IndexError:\n",
    "        print(f\"Error: {vr['branded-variable-name']} does not have the expected format\")\n",
    "        branding  = [vr['branded-variable-name']]*5\n",
    "\n",
    "    dummy = OrderedDict({\n",
    "        \"id\": vr['branded-variable-name'],\n",
    "        \"validation-key\": vr['branded-variable-name'],\n",
    "        \"ui-label\": vr['long-name'],\n",
    "        \"description\": vr['comment'],\n",
    "        \"variable-root\":vr['variable-root-d-d'],\n",
    "        \"temporal-label\": branding[0],\n",
    "        \"vertical-label\": branding[1],\n",
    "        \"horizontal-label\": branding[2],\n",
    "        \"area-label\": branding[3],\n",
    "        \"remove-cmip6-table\": vr['cmip6-table'],\n",
    "    })\n",
    "    \n",
    "    del vr['long-name'], vr['comment'], vr['branded-variable-name'], vr['variable-root-d-d'], vr['uid'],vr['cmip6-table'],vr['modeling-realm']\n",
    "    \n",
    "    dummy.update(vr)\n",
    " \n",
    "    dummy['@context'] = '_context_'\n",
    "    dummy['type'] = ['wcrp:variable', 'variable-registry']\n",
    "\n",
    "    with open(f\"../src-data/variable/{dummy['id']}.json\", 'w') as f:\n",
    "        json.dump(dummy, f, indent=4, ensure_ascii=False) \n",
    "    \n",
    "    varlist.append(dummy)\n",
    "        \n",
    "ctx = {\n",
    "\"@context\": {\n",
    "    \"@base\": \"https://wcrp-cmip.github.io/Variable-Registry/variable/\",\n",
    "    \"@vocab\": \"https://wcrp-cmip.github.io/Variable-Registry/variable/\",\n",
    "    \"cell-methods\": {\n",
    "            \"@type\": \"@id\",\n",
    "            \"@context\": \"https://wcrp-cmip.github.io/Variable-Registry/cell-method/_context_\"\n",
    "        },\n",
    "    \"temporal-label\": {\n",
    "            \"@type\": \"@id\",\n",
    "            \"@context\": \"https://wcrp-cmip.github.io/Variable-Registry/temporal-label/_context_\"\n",
    "        },\n",
    "    \"vertical-label\": {\n",
    "            \"@type\": \"@id\",\n",
    "            \"@context\": \"https://wcrp-cmip.github.io/Variable-Registry/vertical-label/_context_\"\n",
    "        },\n",
    "    \"horizontal-label\": {\n",
    "            \"@type\": \"@id\",\n",
    "            \"@context\": \"https://wcrp-cmip.github.io/Variable-Registry/horizontal-label/_context_\"\n",
    "        },\n",
    "    \"area-label\": {\n",
    "            \"@type\": \"@id\",\n",
    "            \"@context\": \"https://wcrp-cmip.github.io/Variable-Registry/area-label/_context_\"\n",
    "        },\n",
    "    \"dimensions\": {\n",
    "            \"@type\": \"@id\",\n",
    "            \"@context\": \"https://wcrp-cmip.github.io/Variable-Registry/area-label/_context_\"\n",
    "        },\n",
    "    \"model-realm\": {\n",
    "            \"@type\": \"@id\",\n",
    "            \"@context\": \"https://wcrp-cmip.github.io/WCRP-universe/realm/_context_\"\n",
    "        },\n",
    "    \n",
    "},\n",
    "\"@embed\": \"@always\"\n",
    "}\n",
    "\n",
    "with open(f'../src-data/variable/_context_', 'w') as f:\n",
    "    json.dump(ctx, f, indent=4, ensure_ascii=False)\n",
    "dummy\n"
   ]
  },
  {
   "cell_type": "code",
   "execution_count": null,
   "metadata": {},
   "outputs": [],
   "source": []
  },
  {
   "cell_type": "markdown",
   "metadata": {},
   "source": [
    "```Dimension names (see Appendix C)\n",
    "Temporal sampling options (see Appendix F)\n",
    "Horizontal dimensional structure options (see Appendix F)\n",
    "Vertical dimension options (see Appendix F)\n",
    "Area options (see Appendix F)\n",
    "\n",
    "\n",
    "<variableRootDD>_<temporalLabelDD>- <verticalLabelDD>-<horizontalLabelDD>-<areaLabelDD>."
   ]
  },
  {
   "cell_type": "code",
   "execution_count": null,
   "metadata": {},
   "outputs": [
    {
     "ename": "FileNotFoundError",
     "evalue": "[Errno 2] No such file or directory: '../src-data/cmip6-tables/3hr.json'",
     "output_type": "error",
     "traceback": [
      "\u001b[0;31m---------------------------------------------------------------------------\u001b[0m",
      "\u001b[0;31mFileNotFoundError\u001b[0m                         Traceback (most recent call last)",
      "Cell \u001b[0;32mIn [29], line 23\u001b[0m\n\u001b[1;32m     12\u001b[0m     tid\u001b[38;5;241m=\u001b[39mt\u001b[38;5;241m.\u001b[39mlower()\u001b[38;5;241m.\u001b[39mreplace(\u001b[38;5;124m'\u001b[39m\u001b[38;5;124m \u001b[39m\u001b[38;5;124m'\u001b[39m, \u001b[38;5;124m'\u001b[39m\u001b[38;5;124m-\u001b[39m\u001b[38;5;124m'\u001b[39m)\u001b[38;5;241m.\u001b[39mreplace(\u001b[38;5;124m'\u001b[39m\u001b[38;5;124m_\u001b[39m\u001b[38;5;124m'\u001b[39m, \u001b[38;5;124m'\u001b[39m\u001b[38;5;124m-\u001b[39m\u001b[38;5;124m'\u001b[39m)\n\u001b[1;32m     13\u001b[0m     tv \u001b[38;5;241m=\u001b[39m {\n\u001b[1;32m     14\u001b[0m         \u001b[38;5;124m\"\u001b[39m\u001b[38;5;124mid\u001b[39m\u001b[38;5;124m\"\u001b[39m:tid,\n\u001b[1;32m     15\u001b[0m         \u001b[38;5;124m\"\u001b[39m\u001b[38;5;124mvalidation-key\u001b[39m\u001b[38;5;124m\"\u001b[39m: tid,\n\u001b[0;32m   (...)\u001b[0m\n\u001b[1;32m     20\u001b[0m         \u001b[38;5;124m\"\u001b[39m\u001b[38;5;124mtype\u001b[39m\u001b[38;5;124m\"\u001b[39m: [\u001b[38;5;124m\"\u001b[39m\u001b[38;5;124mwcrp:mip-table\u001b[39m\u001b[38;5;124m\"\u001b[39m, \u001b[38;5;124m\"\u001b[39m\u001b[38;5;124mvariable-registry\u001b[39m\u001b[38;5;124m\"\u001b[39m,\u001b[38;5;124m\"\u001b[39m\u001b[38;5;124mcmip6\u001b[39m\u001b[38;5;124m\"\u001b[39m]\n\u001b[1;32m     21\u001b[0m         }\n\u001b[0;32m---> 23\u001b[0m     \u001b[38;5;28;01mwith\u001b[39;00m \u001b[38;5;28;43mopen\u001b[39;49m\u001b[43m(\u001b[49m\u001b[38;5;124;43mf\u001b[39;49m\u001b[38;5;124;43m\"\u001b[39;49m\u001b[38;5;124;43m../src-data/cmip6-tables/\u001b[39;49m\u001b[38;5;132;43;01m{\u001b[39;49;00m\u001b[43mtid\u001b[49m\u001b[38;5;132;43;01m}\u001b[39;49;00m\u001b[38;5;124;43m.json\u001b[39;49m\u001b[38;5;124;43m\"\u001b[39;49m\u001b[43m,\u001b[49m\u001b[43m \u001b[49m\u001b[38;5;124;43m'\u001b[39;49m\u001b[38;5;124;43mw\u001b[39;49m\u001b[38;5;124;43m'\u001b[39;49m\u001b[43m)\u001b[49m \u001b[38;5;28;01mas\u001b[39;00m f:\n\u001b[1;32m     24\u001b[0m         json\u001b[38;5;241m.\u001b[39mdump(tv, f, indent\u001b[38;5;241m=\u001b[39m\u001b[38;5;241m4\u001b[39m, ensure_ascii\u001b[38;5;241m=\u001b[39m\u001b[38;5;28;01mFalse\u001b[39;00m)\n\u001b[1;32m     28\u001b[0m ctx \u001b[38;5;241m=\u001b[39m {\n\u001b[1;32m     29\u001b[0m \u001b[38;5;124m\"\u001b[39m\u001b[38;5;124m@context\u001b[39m\u001b[38;5;124m\"\u001b[39m: {\n\u001b[1;32m     30\u001b[0m     \u001b[38;5;124m\"\u001b[39m\u001b[38;5;124m@base\u001b[39m\u001b[38;5;124m\"\u001b[39m: \u001b[38;5;124m\"\u001b[39m\u001b[38;5;124mhttps://wcrp-cmip.github.io/Variable-Registry/cmip6-table/\u001b[39m\u001b[38;5;124m\"\u001b[39m,\n\u001b[0;32m   (...)\u001b[0m\n\u001b[1;32m     37\u001b[0m \u001b[38;5;124m\"\u001b[39m\u001b[38;5;124m@embed\u001b[39m\u001b[38;5;124m\"\u001b[39m: \u001b[38;5;124m\"\u001b[39m\u001b[38;5;124m@always\u001b[39m\u001b[38;5;124m\"\u001b[39m\n\u001b[1;32m     38\u001b[0m }\n",
      "File \u001b[0;32m~/customlib/homebrew/Caskroom/mambaforge/base/envs/base2/lib/python3.11/site-packages/IPython/core/interactiveshell.py:282\u001b[0m, in \u001b[0;36m_modified_open\u001b[0;34m(file, *args, **kwargs)\u001b[0m\n\u001b[1;32m    275\u001b[0m \u001b[38;5;28;01mif\u001b[39;00m file \u001b[38;5;129;01min\u001b[39;00m {\u001b[38;5;241m0\u001b[39m, \u001b[38;5;241m1\u001b[39m, \u001b[38;5;241m2\u001b[39m}:\n\u001b[1;32m    276\u001b[0m     \u001b[38;5;28;01mraise\u001b[39;00m \u001b[38;5;167;01mValueError\u001b[39;00m(\n\u001b[1;32m    277\u001b[0m         \u001b[38;5;124mf\u001b[39m\u001b[38;5;124m\"\u001b[39m\u001b[38;5;124mIPython won\u001b[39m\u001b[38;5;124m'\u001b[39m\u001b[38;5;124mt let you open fd=\u001b[39m\u001b[38;5;132;01m{\u001b[39;00mfile\u001b[38;5;132;01m}\u001b[39;00m\u001b[38;5;124m by default \u001b[39m\u001b[38;5;124m\"\u001b[39m\n\u001b[1;32m    278\u001b[0m         \u001b[38;5;124m\"\u001b[39m\u001b[38;5;124mas it is likely to crash IPython. If you know what you are doing, \u001b[39m\u001b[38;5;124m\"\u001b[39m\n\u001b[1;32m    279\u001b[0m         \u001b[38;5;124m\"\u001b[39m\u001b[38;5;124myou can use builtins\u001b[39m\u001b[38;5;124m'\u001b[39m\u001b[38;5;124m open.\u001b[39m\u001b[38;5;124m\"\u001b[39m\n\u001b[1;32m    280\u001b[0m     )\n\u001b[0;32m--> 282\u001b[0m \u001b[38;5;28;01mreturn\u001b[39;00m \u001b[43mio_open\u001b[49m\u001b[43m(\u001b[49m\u001b[43mfile\u001b[49m\u001b[43m,\u001b[49m\u001b[43m \u001b[49m\u001b[38;5;241;43m*\u001b[39;49m\u001b[43margs\u001b[49m\u001b[43m,\u001b[49m\u001b[43m \u001b[49m\u001b[38;5;241;43m*\u001b[39;49m\u001b[38;5;241;43m*\u001b[39;49m\u001b[43mkwargs\u001b[49m\u001b[43m)\u001b[49m\n",
      "\u001b[0;31mFileNotFoundError\u001b[0m: [Errno 2] No such file or directory: '../src-data/cmip6-tables/3hr.json'"
     ]
    }
   ],
   "source": [
    "tables = {}\n",
    "\n",
    "for v in varlist:\n",
    "    table = v['remove-cmip6-table']\n",
    "    if table not in tables:\n",
    "        tables[table] = []\n",
    "    tables[table].append(v['id'])\n",
    "    \n",
    "tables.keys()\n",
    "\n",
    "for t in tables:\n",
    "    tid=t.lower().replace(' ', '-').replace('_', '-')\n",
    "    tv = {\n",
    "        \"id\":tid,\n",
    "        \"validation-key\": tid,\n",
    "        \"ui-label\": t,\n",
    "        \"description\": f\"CMIP6 CMOR table {t} containing variables\",\n",
    "        \"variables\":tables[t],\n",
    "        \"@context\": \"_context_\",\n",
    "        \"type\": [\"wcrp:mip-table\", \"variable-registry\",\"cmip6\"]\n",
    "        }\n",
    "    \n",
    "    with open(f\"../src-data/cmip6-mip-table/{tid}.json\", 'w') as f:\n",
    "        json.dump(tv, f, indent=4, ensure_ascii=False)\n",
    "    \n",
    "    \n",
    "    \n",
    "ctx = {\n",
    "\"@context\": {\n",
    "    \"@base\": \"https://wcrp-cmip.github.io/Variable-Registry/cmip6-mip-table/\",\n",
    "    \"@vocab\": \"https://wcrp-cmip.github.io/Variable-Registry/cmip6-mip-table/\",\n",
    "    \"variables\": {\n",
    "            \"@type\": \"@id\",\n",
    "            \"@context\": \"https://wcrp-cmip.github.io/Variable-Registry/variable/_context_\"\n",
    "        },\n",
    "},\n",
    "\"@embed\": \"@always\"\n",
    "}\n",
    "\n",
    "with open(f'../src-data/cmip6-mip-table/_context_', 'w') as f:\n",
    "    json.dump(ctx, f, indent=4, ensure_ascii=False)\n",
    "dummy"
   ]
  },
  {
   "cell_type": "code",
   "execution_count": null,
   "metadata": {},
   "outputs": [],
   "source": []
  }
 ],
 "metadata": {
  "kernelspec": {
   "display_name": "base2",
   "language": "python",
   "name": "python3"
  },
  "language_info": {
   "codemirror_mode": {
    "name": "ipython",
    "version": 3
   },
   "file_extension": ".py",
   "mimetype": "text/x-python",
   "name": "python",
   "nbconvert_exporter": "python",
   "pygments_lexer": "ipython3",
   "version": "3.11.0"
  }
 },
 "nbformat": 4,
 "nbformat_minor": 4
}
