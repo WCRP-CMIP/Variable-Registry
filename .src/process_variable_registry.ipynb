{
 "cells": [
  {
   "cell_type": "markdown",
   "metadata": {},
   "source": [
    "# Process Variable Registry CSVs to WCRP-universe JSON Format\n",
    "\n",
    "This notebook processes CSV files from the Variable Registry and converts them to JSON format compatible with WCRP-universe."
   ]
  },
  {
   "cell_type": "code",
   "execution_count": null,
   "metadata": {},
   "outputs": [],
   "source": []
  },
  {
   "cell_type": "code",
   "execution_count": 52,
   "metadata": {},
   "outputs": [],
   "source": [
    "# Import required libraries\n",
    "import pandas as pd\n",
    "import json\n",
    "import os\n",
    "import sys\n",
    "from pathlib import Path\n",
    "import subprocess\n",
    "from glob import glob\n",
    "\n",
    "# Add CMIP-LD to path for imports\n",
    "sys.path.append('/Users/daniel.ellis/WIPwork/CMIP-LD')\n",
    "\n",
    "# Import cmipld modules\n",
    "# from cmipld.generate.validate_json import validate_json_file\n",
    "# from cmipld.generate.create_readme import create_readme"
   ]
  },
  {
   "cell_type": "code",
   "execution_count": 53,
   "metadata": {},
   "outputs": [
    {
     "name": "stdout",
     "output_type": "stream",
     "text": [
      "Found 3 CSV files:\n",
      "  - Coordinates and Dimensions-Grid view.csv\n",
      "  - Temporal Shape-Grid view.csv\n",
      "  - Cell Methods-Grid view.csv\n"
     ]
    }
   ],
   "source": [
    "# Define paths\n",
    "VARIABLE_REGISTRY_PATH = Path('/Users/daniel.ellis/WIPwork/Variable-Registry/.src')\n",
    "OUTPUT_PATH = Path('/Users/daniel.ellis/WIPwork/Variable-Registry/src-data')\n",
    "\n",
    "# List CSV files in the directory\n",
    "csv_files = list(VARIABLE_REGISTRY_PATH.glob('*.csv'))\n",
    "print(f\"Found {len(csv_files)} CSV files:\")\n",
    "for csv_file in csv_files:\n",
    "    print(f\"  - {csv_file.name}\")"
   ]
  },
  {
   "cell_type": "code",
   "execution_count": 54,
   "metadata": {},
   "outputs": [],
   "source": [
    "# Helper functions\n",
    "def clean_value(value):\n",
    "    \"\"\"Clean and process values from CSV\"\"\"\n",
    "    if pd.isna(value):\n",
    "        return \"\"\n",
    "    if isinstance(value, str):\n",
    "        return value.strip()\n",
    "    return value\n",
    "\n",
    "def create_context_file(output_dir):\n",
    "    \"\"\"Create the _context_ file for the directory\"\"\"\n",
    "    context_data = {\n",
    "        \"@context\": {\n",
    "            \"@base\": \"https://wcrp-cmip.github.io/Variable-Regirstry/\",\n",
    "            \"@vocab\": \"https://wcrp-cmip.github.io/Variable-Regirstry/\",\n",
    "            \"vr\": \"https://wcrp-cmip.github.io/Variable-Registry/\",\n",
    "        }\n",
    "    }\n",
    "    \n",
    "    context_path = output_dir / '_context_'\n",
    "    with open(context_path, 'w') as f:\n",
    "        json.dump(context_data, f, indent=2)"
   ]
  },
  {
   "cell_type": "markdown",
   "metadata": {},
   "source": [
    "## Process Cell Methods CSV"
   ]
  },
  {
   "cell_type": "code",
   "execution_count": null,
   "metadata": {},
   "outputs": [],
   "source": [
    "def process_cell_methods(df):\n",
    "    \"\"\"Process Cell Methods CSV to JSON format\"\"\"\n",
    "    json_files = []\n",
    "    try:\n",
    "        os.mkdir(OUTPUT_PATH / 'cell-method')\n",
    "    except FileExistsError:\n",
    "        print(\"Directory 'cell-method' already exists, skipping creation.\")\n",
    "    \n",
    "    for idx, row in df.iterrows():\n",
    "        # Create ID from the label or cell methods\n",
    "        if not isinstance(row['label'], str) or pd.isna(row['label']):\n",
    "            print(f\"  Warning: Skipping row {idx} with invalid Name: {row['label']}\")\n",
    "            continue\n",
    "        id_value = row['label'].strip().replace(' ', '_').replace(':', '').lower()\n",
    "        \n",
    "        # Create JSON structure matching WCRP-universe format\n",
    "        json_data = {\n",
    "            \"id\": id_value,\n",
    "            \"validation-key\": id_value,\n",
    "            \"ui-label\": clean_value(row['title']),\n",
    "            \"description\": clean_value(row['Cell Methods'].split('(mask')[0].strip()),\n",
    "            \"mask\": clean_value(row['Mask']),\n",
    "            \"@context\": \"_context_\",\n",
    "            \"type\": [\"wcrp:cell-method\", \"universal\"]\n",
    "        }\n",
    "        \n",
    "\n",
    "            \n",
    "        json_files.append((f\"{id_value}.json\", json_data))\n",
    "    \n",
    "    return json_files"
   ]
  },
  {
   "cell_type": "markdown",
   "metadata": {},
   "source": [
    "## Process Coordinates and Dimensions CSV\n",
    "This CSV contains both coordinates and dimensions, which need to be separated based on the CF Category column."
   ]
  },
  {
   "cell_type": "code",
   "execution_count": null,
   "metadata": {},
   "outputs": [],
   "source": [
    "def process_coordinates_and_dimensions(df):\n",
    "    \"\"\"Process Coordinates and Dimensions CSV to separate coordinate and dimension JSON files\"\"\"\n",
    "    coordinate_files = []\n",
    "    dimension_files = []\n",
    "    \n",
    "    try:\n",
    "        os.mkdir(OUTPUT_PATH / 'coordinate')\n",
    "        os.mkdir(OUTPUT_PATH / 'dimension')\n",
    "    except FileExistsError:\n",
    "        print(\"Directories 'coordinates' or 'dimensions' already exist, skipping creation.\")\n",
    "    \n",
    "    for idx, row in df.iterrows():\n",
    "        # Use the Name field as ID\n",
    "        if not isinstance(row['Name'], str) or pd.isna(row['Name']):\n",
    "            print(f\"  Warning: Skipping row {idx} with invalid Name: {row['Name']}\")\n",
    "            continue\n",
    "        id_value = clean_value(row['Name']).lower().replace(' ', '_').replace(':', '')\n",
    "        \n",
    "        # Determine type based on CF Category\n",
    "        cf_category = clean_value(row.get('CF Category', '')).lower()\n",
    "        \n",
    "        # Create JSON structure\n",
    "        if cf_category == 'coordinate':\n",
    "            json_data = {\n",
    "                \"id\": id_value,\n",
    "                \"validation-key\": id_value,\n",
    "                \"ui-label\": clean_value(row['Title']),\n",
    "                \"description\": clean_value(row['Description']),\n",
    "                \"cf-standard-name\": clean_value(row['CF Standard Name']),\n",
    "                \"axis-flag\": clean_value(row['Axis Flag']),\n",
    "                \"@context\": \"_context_\",\n",
    "                \"type\": [\"wcrp:coordinate\", \"universal\"]\n",
    "            }\n",
    "            \n",
    "            output_list = coordinate_files\n",
    "        elif cf_category == 'dimension':\n",
    "            json_data = {\n",
    "                \"id\": id_value,\n",
    "                \"validation-key\": id_value,\n",
    "                \"ui-label\": clean_value(row['Title']),\n",
    "                \"description\": clean_value(row['Description']),\n",
    "                \"cf-standard-name\": clean_value(row['CF Standard Name']),\n",
    "                \"spatial-shape\": clean_value(row['Spatial Shape']),\n",
    "                \"axis-flag\": clean_value(row['Axis Flag']),\n",
    "                \"@context\": \"_context_\",\n",
    "                \"type\": [\"wcrp:dimension\", \"universal\"]\n",
    "            }\n",
    "            output_list = dimension_files\n",
    "        else:\n",
    "            # Skip if CF Category is not coordinate or dimension\n",
    "            print(f\"  Warning: Skipping {id_value} with unknown CF Category: {cf_category}\")\n",
    "            continue\n",
    "        \n",
    "        # #  optional fields\n",
    "        # if pd.notna(row.get('CF Standard Name')):\n",
    "        #     json_data['cf_standard_name'] = clean_value(row['CF Standard Name'])\n",
    "      \n",
    "            \n",
    "        output_list.append((f\"{id_value}.json\", json_data))\n",
    "    \n",
    "    return coordinate_files, dimension_files"
   ]
  },
  {
   "cell_type": "markdown",
   "metadata": {},
   "source": [
    "## Main Processing Loop"
   ]
  },
  {
   "cell_type": "code",
   "execution_count": 62,
   "metadata": {},
   "outputs": [
    {
     "name": "stdout",
     "output_type": "stream",
     "text": [
      "Found 3 CSV files in /Users/daniel.ellis/WIPwork/Variable-Registry/.src\n",
      "\n",
      "Processing Coordinates and Dimensions-Grid view.csv...\n",
      "  Found 113 rows\n",
      "Directories 'coordinates' or 'dimensions' already exist, skipping creation.\n",
      "  Created 66 JSON files in coordinate/\n",
      "  Created _context_ file\n",
      "  Created 47 JSON files in dimension/\n",
      "  Created _context_ file\n",
      "\n",
      "Processing Temporal Shape-Grid view.csv...\n",
      "  Found 7 rows\n",
      "  Unknown file type: Temporal Shape-Grid view.csv - skipping\n",
      "\n",
      "Processing Cell Methods-Grid view.csv...\n",
      "  Found 89 rows\n",
      "Directory 'cell-method' already exists, skipping creation.\n",
      "  Warning: Skipping row 59 with invalid Name: nan\n",
      "  Warning: Skipping row 63 with invalid Name: nan\n",
      "  Warning: Skipping row 76 with invalid Name: nan\n",
      "  Warning: Skipping row 77 with invalid Name: nan\n",
      "  Warning: Skipping row 79 with invalid Name: nan\n",
      "  Warning: Skipping row 80 with invalid Name: nan\n",
      "  Created 83 JSON files in cell-method/\n",
      "  Created _context_ file\n"
     ]
    }
   ],
   "source": [
    "# Create output directory if it doesn't exist\n",
    "OUTPUT_PATH.mkdir(parents=True, exist_ok=True)\n",
    "\n",
    "# Find all CSV files in the directory\n",
    "csv_files = list(VARIABLE_REGISTRY_PATH.glob('*.csv'))\n",
    "\n",
    "print(f\"Found {len(csv_files)} CSV files in {VARIABLE_REGISTRY_PATH}\")\n",
    "\n",
    "for csv_path in csv_files:\n",
    "    csv_file = csv_path.name\n",
    "    \n",
    "    # Skip temporary or system files\n",
    "    if csv_file.startswith('.') or csv_file.startswith('~'):\n",
    "        continue\n",
    "        \n",
    "    print(f\"\\nProcessing {csv_file}...\")\n",
    "    \n",
    "    # Read CSV\n",
    "    try:\n",
    "        df = pd.read_csv(csv_path)\n",
    "        print(f\"  Found {len(df)} rows\")\n",
    "    except Exception as e:\n",
    "        print(f\"  Error reading {csv_file}: {str(e)}\")\n",
    "        continue\n",
    "    \n",
    "    # Determine processing based on filename\n",
    "    if 'Cell Methods' in csv_file:\n",
    "        output_dirname = 'cell-method'\n",
    "        json_files = process_cell_methods(df)\n",
    "        directories_to_process = [(output_dirname, json_files)]\n",
    "        \n",
    "    elif 'Coordinates and Dimensions' in csv_file:\n",
    "        # Special case: split into two directories\n",
    "        coord_files, dim_files = process_coordinates_and_dimensions(df)\n",
    "        directories_to_process = [\n",
    "            ('coordinate', coord_files),\n",
    "            ('dimension', dim_files)\n",
    "        ]\n",
    "       \n",
    "    else:\n",
    "        print(f\"  Unknown file type: {csv_file} - skipping\")\n",
    "        continue\n",
    "    \n",
    "    # Process each directory\n",
    "    for output_dirname, json_files in directories_to_process:\n",
    "        if not json_files:\n",
    "            print(f\"  No files to create for {output_dirname}\")\n",
    "            continue\n",
    "            \n",
    "        # Create output directory\n",
    "        output_dir = OUTPUT_PATH / output_dirname\n",
    "        output_dir.mkdir(parents=True, exist_ok=True)\n",
    "        \n",
    "        # Write JSON files\n",
    "        for filename, data in json_files:\n",
    "            filepath = output_dir / filename\n",
    "            with open(filepath, 'w') as f:\n",
    "                json.dump(data, f, indent=2)\n",
    "        \n",
    "        print(f\"  Created {len(json_files)} JSON files in {output_dirname}/\")\n",
    "        \n",
    "        # Create context file\n",
    "        create_context_file(output_dir)\n",
    "        print(f\"  Created _context_ file\")"
   ]
  },
  {
   "cell_type": "markdown",
   "metadata": {},
   "source": [
    "## Validate JSON Files"
   ]
  },
  {
   "cell_type": "code",
   "execution_count": null,
   "metadata": {},
   "outputs": [
    {
     "name": "stderr",
     "output_type": "stream",
     "text": [
      "Processing JSON files: 100%|██████████| 195/195 [00:00<00:00, 3233.57file/s, Modified=195, Errors=0]\n"
     ]
    },
    {
     "data": {
      "text/plain": [
       "'🔧 Applied global JSON-LD SSL compatibility patches\\n\\n============================================================\\n📊 PROCESSING SUMMARY\\n============================================================\\nTotal files processed: 195\\nFiles modified: 195\\nErrors encountered: 0\\n\\n✅ MODIFIED: 195 files (too many to list)\\n============================================================\\n╭───────────────────────────── ::offline:: Debug ──────────────────────────────╮\\n│ -  Global JSON-LD SSL compatibility patches applied                          │\\n│                                                                              │\\n╰──────────────────────────────────────────────────────────────────────────────╯\\n╭────────────────────────────── ::loader:: Debug ──────────────────────────────╮\\n│ -  default_loader: <function requests_document_loader.<locals>.loader at     │\\n│ 0x10187e020>                                                                 │\\n│                                                                              │\\n╰──────────────────────────────────────────────────────────────────────────────╯\\n'"
      ]
     },
     "execution_count": 63,
     "metadata": {},
     "output_type": "execute_result"
    }
   ],
   "source": [
    "\n",
    "os.popen(\"validate_json ../src-data\").read()"
   ]
  },
  {
   "cell_type": "markdown",
   "metadata": {},
   "source": [
    "## Create README Files"
   ]
  },
  {
   "cell_type": "code",
   "execution_count": null,
   "metadata": {},
   "outputs": [
    {
     "data": {
      "text/plain": [
       "\"🔧 Applied global JSON-LD SSL compatibility patches\\nWarning: esgvoc not available. Pydantic models will not be used.\\nProcessing cell-method/\\n------ \\n Adding cell_method to DATA_DESCRIPTOR_CLASS_MAPPING\\n- **`id`**\\n- **`validation-key`**\\n- **`ui-label`**\\n- **`description`**\\n- **`mask`**\\n- **`@context`**\\n- **`type`**\\nmake test for url2io\\nCreated README for cell-method/\\nProcessing coordinate/\\nThe following keys are not present in all files: ['cf_standard_name', 'units', 'axis']\\n<<add these to an issue>>\\n------ \\n Adding coordinate to DATA_DESCRIPTOR_CLASS_MAPPING\\n- **`id`**\\n- **`validation-key`**\\n- **`ui-label`**\\n- **`description`**\\n- **`axis`**\\n- **`axis-flag`**\\n- **`cf-standard-name`**\\n- **`cf_standard_name`**\\n- **`uid`**\\n- **`units`**\\n- **`value_type`**\\n- **`@context`**\\n- **`type`**\\nmake test for url2io\\nCreated README for coordinate/\\nProcessing dimension/\\nThe following keys are not present in all files: ['cf_standard_name', 'units', 'axis']\\n<<add these to an issue>>\\n------ \\n Adding dimension to DATA_DESCRIPTOR_CLASS_MAPPING\\n- **`id`**\\n- **`validation-key`**\\n- **`ui-label`**\\n- **`description`**\\n- **`axis`**\\n- **`axis-flag`**\\n- **`cf-standard-name`**\\n- **`cf_standard_name`**\\n- **`spatial-shape`**\\n- **`uid`**\\n- **`units`**\\n- **`value_type`**\\n- **`@context`**\\n- **`type`**\\nmake test for url2io\\nCreated README for dimension/\\n\\nProcessing complete. Missing pydantic models: ['cell_method', 'coordinate', 'dimension']\\n╭───────────────────────────── ::offline:: Debug ──────────────────────────────╮\\n│ -  Global JSON-LD SSL compatibility patches applied                          │\\n│                                                                              │\\n╰──────────────────────────────────────────────────────────────────────────────╯\\n╭────────────────────────────── ::loader:: Debug ──────────────────────────────╮\\n│ -  default_loader: <function requests_document_loader.<locals>.loader at     │\\n│ 0x1010e6020>                                                                 │\\n│                                                                              │\\n╰──────────────────────────────────────────────────────────────────────────────╯\\n\""
      ]
     },
     "execution_count": 64,
     "metadata": {},
     "output_type": "execute_result"
    }
   ],
   "source": [
    "\n",
    "os.popen(\"create_readme ../src-data\").read()"
   ]
  },
  {
   "cell_type": "markdown",
   "metadata": {},
   "source": [
    "## Summary"
   ]
  },
  {
   "cell_type": "code",
   "execution_count": null,
   "metadata": {},
   "outputs": [],
   "source": []
  },
  {
   "cell_type": "code",
   "execution_count": null,
   "metadata": {},
   "outputs": [],
   "source": []
  }
 ],
 "metadata": {
  "kernelspec": {
   "display_name": "base2",
   "language": "python",
   "name": "python3"
  },
  "language_info": {
   "codemirror_mode": {
    "name": "ipython",
    "version": 3
   },
   "file_extension": ".py",
   "mimetype": "text/x-python",
   "name": "python",
   "nbconvert_exporter": "python",
   "pygments_lexer": "ipython3",
   "version": "3.11.0"
  }
 },
 "nbformat": 4,
 "nbformat_minor": 4
}
